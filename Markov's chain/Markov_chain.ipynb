{
  "nbformat": 4,
  "nbformat_minor": 0,
  "metadata": {
    "colab": {
      "provenance": [],
      "authorship_tag": "ABX9TyPfD4ypbj5rHzXswtXi+mqh",
      "include_colab_link": true
    },
    "kernelspec": {
      "name": "python3",
      "display_name": "Python 3"
    },
    "language_info": {
      "name": "python"
    }
  },
  "cells": [
    {
      "cell_type": "markdown",
      "metadata": {
        "id": "view-in-github",
        "colab_type": "text"
      },
      "source": [
        "<a href=\"https://colab.research.google.com/github/Nandini0188999/WE-Assignment-module3/blob/main/Markov's%20chain/Markov_chain.ipynb\" target=\"_parent\"><img src=\"https://colab.research.google.com/assets/colab-badge.svg\" alt=\"Open In Colab\"/></a>"
      ]
    },
    {
      "cell_type": "code",
      "execution_count": 2,
      "metadata": {
        "colab": {
          "base_uri": "https://localhost:8080/"
        },
        "id": "AQibI2KWOSZN",
        "outputId": "9fbfdd34-94fa-48a0-fa75-36b9adcf6977"
      },
      "outputs": [
        {
          "output_type": "stream",
          "name": "stdout",
          "text": [
            "A\n",
            "B\n",
            "B\n",
            "A\n",
            "C\n",
            "A\n",
            "B\n",
            "C\n",
            "A\n",
            "B\n",
            "C\n",
            "A\n",
            "C\n",
            "A\n",
            "B\n",
            "C\n",
            "A\n",
            "B\n",
            "A\n",
            "B\n",
            "C\n",
            "A\n",
            "C\n",
            "A\n",
            "B\n",
            "C\n",
            "A\n",
            "B\n",
            "C\n",
            "A\n",
            "B\n",
            "A\n",
            "C\n",
            "A\n",
            "B\n",
            "C\n",
            "A\n",
            "B\n",
            "C\n",
            "A\n",
            "B\n",
            "C\n",
            "A\n",
            "C\n",
            "A\n",
            "B\n",
            "A\n",
            "B\n",
            "B\n",
            "C\n",
            "C\n",
            "A\n",
            "A\n",
            "B\n",
            "C\n",
            "A\n",
            "B\n",
            "C\n",
            "A\n",
            "A\n",
            "C\n",
            "A\n",
            "C\n",
            "A\n",
            "C\n",
            "B\n",
            "C\n",
            "A\n",
            "A\n",
            "C\n",
            "A\n",
            "B\n",
            "C\n",
            "A\n",
            "B\n",
            "C\n",
            "A\n",
            "B\n",
            "C\n",
            "B\n",
            "A\n",
            "B\n",
            "A\n",
            "B\n",
            "C\n",
            "A\n",
            "C\n",
            "A\n",
            "B\n",
            "A\n",
            "B\n",
            "A\n",
            "C\n",
            "A\n",
            "B\n",
            "A\n",
            "C\n",
            "B\n",
            "C\n",
            "C\n"
          ]
        }
      ],
      "source": [
        "import numpy as np\n",
        "\n",
        "# Define states\n",
        "states = ['A', 'B', 'C']\n",
        "num_steps=100\n",
        "\n",
        "# Define transition matrix (example)\n",
        "transition_matrix = np.array([\n",
        "    [0.2, 0.5, 0.3],  # Transition probabilities from state A\n",
        "    [0.4, 0.1, 0.5],  # Transition probabilities from state B\n",
        "    [0.6, 0.2, 0.2]   # Transition probabilities from state C\n",
        "])\n",
        "\n",
        "# Initialize\n",
        "current_state = 'A'\n",
        "\n",
        "# State transition\n",
        "for _ in range(num_steps):\n",
        "    # Get index of current state\n",
        "    current_index = states.index(current_state)\n",
        "\n",
        "    # Sample next state based on transition probabilities\n",
        "    next_index = np.random.choice(len(states), p=transition_matrix[current_index])\n",
        "\n",
        "    # Update current state\n",
        "    current_state = states[next_index]\n",
        "\n",
        "    # Do something with current_state (e.g., print it)\n",
        "    print(current_state)\n"
      ]
    },
    {
      "cell_type": "code",
      "source": [
        "import numpy as np\n",
        "import matplotlib.pyplot as plt\n",
        "\n",
        "class MarkovChain:\n",
        "    def __init__(self, states, transition_matrix, state_labels=None):\n",
        "        self.states = states\n",
        "        self.transition_matrix = transition_matrix\n",
        "        self.state_labels = state_labels if state_labels else states\n",
        "\n",
        "    def transition(self, current_state):\n",
        "        current_index = self.states.index(current_state)\n",
        "        next_index = np.random.choice(len(self.states), p=self.transition_matrix[current_index])\n",
        "        return self.states[next_index]\n",
        "\n",
        "    def simulate(self, initial_state, num_steps):\n",
        "        current_state = initial_state\n",
        "        states_sequence = [current_state]\n",
        "        for _ in range(num_steps - 1):\n",
        "            current_state = self.transition(current_state)\n",
        "            states_sequence.append(current_state)\n",
        "        return states_sequence\n",
        "\n",
        "    def visualize_transition_matrix(self):\n",
        "        plt.figure(figsize=(8, 6))\n",
        "        plt.imshow(self.transition_matrix, cmap='Blues', interpolation='nearest')\n",
        "        plt.colorbar(label='Transition Probability')\n",
        "        plt.xticks(np.arange(len(self.states)), self.state_labels, rotation=45)\n",
        "        plt.yticks(np.arange(len(self.states)), self.state_labels)\n",
        "        plt.xlabel('Next State')\n",
        "        plt.ylabel('Current State')\n",
        "        plt.title('Transition Matrix')\n",
        "        plt.show()\n",
        "\n",
        "# Example usage:\n",
        "states = ['A', 'B', 'C']\n",
        "transition_matrix = np.array([\n",
        "    [0.2, 0.5, 0.3],  # Transition probabilities from state A\n",
        "    [0.4, 0.1, 0.5],  # Transition probabilities from state B\n",
        "    [0.6, 0.2, 0.2]   # Transition probabilities from state C\n",
        "])\n",
        "state_labels = ['State A', 'State B', 'State C']\n",
        "\n",
        "markov_chain = MarkovChain(states, transition_matrix, state_labels)\n",
        "markov_chain.visualize_transition_matrix()\n",
        "\n",
        "# Simulate Markov chain\n",
        "initial_state = 'A'\n",
        "num_steps = 100\n",
        "sequence = markov_chain.simulate(initial_state, num_steps)\n",
        "print(\"Generated sequence:\", sequence)\n"
      ],
      "metadata": {
        "colab": {
          "base_uri": "https://localhost:8080/",
          "height": 614
        },
        "id": "0hJ63kc-PTU5",
        "outputId": "cf50f10d-9ef7-49ac-c8ca-bc44f8efe39c"
      },
      "execution_count": 3,
      "outputs": [
        {
          "output_type": "display_data",
          "data": {
            "text/plain": [
              "<Figure size 800x600 with 2 Axes>"
            ],
            "image/png": "[encoded data removed]"
          },
          "metadata": {}
        },
        {
          "output_type": "stream",
          "name": "stdout",
          "text": [
            "Generated sequence: ['A', 'B', 'A', 'B', 'A', 'A', 'B', 'A', 'A', 'C', 'A', 'C', 'A', 'B', 'B', 'C', 'A', 'A', 'C', 'B', 'A', 'B', 'A', 'B', 'A', 'B', 'C', 'C', 'A', 'B', 'A', 'C', 'B', 'A', 'C', 'A', 'B', 'C', 'A', 'B', 'C', 'A', 'C', 'A', 'B', 'A', 'A', 'C', 'A', 'A', 'C', 'B', 'C', 'B', 'C', 'C', 'C', 'A', 'B', 'C', 'A', 'B', 'B', 'C', 'A', 'A', 'B', 'A', 'B', 'A', 'B', 'A', 'B', 'C', 'A', 'A', 'C', 'C', 'C', 'A', 'C', 'B', 'C', 'B', 'A', 'A', 'B', 'C', 'A', 'B', 'B', 'B', 'A', 'C', 'B', 'A', 'B', 'C', 'B', 'A']\n"
          ]
        }
      ]
    },
    {
      "cell_type": "code",
      "source": [
        "import random\n",
        "\n",
        "class MarkovChain:\n",
        "    def __init__(self, text, order=1):\n",
        "        self.order = order\n",
        "        self.corpus = text.split()\n",
        "        self.transitions = self._generate_transitions()\n",
        "\n",
        "    def _generate_transitions(self):\n",
        "        transitions = {}\n",
        "        for i in range(len(self.corpus) - self.order):\n",
        "            state = tuple(self.corpus[i:i+self.order])\n",
        "            next_word = self.corpus[i+self.order]\n",
        "            if state not in transitions:\n",
        "                transitions[state] = []\n",
        "            transitions[state].append(next_word)\n",
        "        return transitions\n",
        "\n",
        "    def generate_text(self, length=100):\n",
        "        current_state = random.choice(list(self.transitions.keys()))\n",
        "        text = list(current_state)\n",
        "        for _ in range(length):\n",
        "            next_word = random.choice(self.transitions.get(current_state, ['']))\n",
        "            text.append(next_word)\n",
        "            current_state = tuple(text[-self.order:])\n",
        "        return ' '.join(text)\n",
        "\n",
        "# Example usage:\n",
        "with open('abt me.txt', 'r') as file:\n",
        "    text = file.read()\n",
        "\n",
        "markov_chain = MarkovChain(text, order=5)\n",
        "generated_text = markov_chain.generate_text(length=200)\n",
        "print(generated_text)\n"
      ],
      "metadata": {
        "colab": {
          "base_uri": "https://localhost:8080/"
        },
        "id": "HLWM--0aPZjG",
        "outputId": "317d5b62-5356-4bb9-98e9-49613bb8876e"
      },
      "execution_count": 5,
      "outputs": [
        {
          "output_type": "stream",
          "name": "stdout",
          "text": [
            "literature fuels my imagination. Music is my constant companion offering inspiration and comfort. Beyond these Im intrigued by astronomy and love exploring different cuisines through culinary experiments. These varied interests enrich my life shaping me into a well rounded individual who embraces creativity and discovery at every turn. My family and I have some financial and lifestyle difficulties. Since our finances are not as solid as we would like them to be we frequently need to carefully budget for and prioritise our needs. We try to live simply and make the most of what we have but occasionally it can be difficult to make ends meet. We make an effort to have a positive attitude and stick with each other through thick and thin in spite of these challenges. Despite its simplicity our home exudes cosiness affection and a sense of community. We may not have much money but what matters most to us is the strong ties that bind us together as a family. When I start making money I want to help other people by taking care of my family first and then giving to local charities that deal with issues like education and poverty. Ill also make donations to organisations that I\n"
          ]
        }
      ]
    },
    {
      "cell_type": "code",
      "source": [
        "import random\n",
        "import pickle\n",
        "import re\n",
        "from collections import defaultdict\n",
        "\n",
        "class MarkovChain:\n",
        "    def __init__(self, order=2):\n",
        "        self.order = order\n",
        "        self.transitions = defaultdict(list)\n",
        "        self.tokenizer = re.compile(r'\\b\\w+\\b')\n",
        "\n",
        "    def _generate_transitions(self, text):\n",
        "        tokens = self.tokenizer.findall(text.lower())\n",
        "        for i in range(len(tokens) - self.order):\n",
        "            state = tuple(tokens[i:i+self.order])\n",
        "            next_token = tokens[i+self.order]\n",
        "            self.transitions[state].append(next_token)\n",
        "\n",
        "    def train(self, text):\n",
        "        self._generate_transitions(text)\n",
        "\n",
        "    def generate_text(self, length=100):\n",
        "        current_state = random.choice(list(self.transitions.keys()))\n",
        "        text = list(current_state)\n",
        "        for _ in range(length):\n",
        "            next_token = random.choice(self.transitions.get(current_state, ['']))\n",
        "            text.append(next_token)\n",
        "            current_state = tuple(text[-self.order:])\n",
        "        return ' '.join(text)\n",
        "\n",
        "    def save_model(self, filename):\n",
        "        with open(filename, 'wb') as file:\n",
        "            pickle.dump(self, file)\n",
        "\n",
        "    @staticmethod\n",
        "    def load_model(filename):\n",
        "        with open(filename, 'rb') as file:\n",
        "            return pickle.load(file)\n",
        "\n",
        "# Example usage:\n",
        "input_text = \"\"\"\n",
        "    Lorem ipsum dolor sit amet, consectetur adipiscing elit. Proin tempus viverra diam, in varius est laoreet ut.\n",
        "    Suspendisse vitae orci ligula. Pellentesque habitant morbi tristique senectus et netus et malesuada fames ac turpis egestas.\n",
        "\"\"\"\n",
        "markov_chain = MarkovChain(order=2)\n",
        "markov_chain.train(input_text)\n",
        "\n",
        "# Generate text\n",
        "generated_text = markov_chain.generate_text(length=50)\n",
        "print(\"Generated text:\", generated_text)\n",
        "\n",
        "# Save trained model\n",
        "markov_chain.save_model('markov_model.pkl')\n",
        "\n",
        "# Load trained model\n",
        "loaded_model = MarkovChain.load_model('markov_model.pkl')\n",
        "generated_text_loaded = loaded_model.generate_text(length=50)\n",
        "print(\"Generated text from loaded model:\", generated_text_loaded)\n"
      ],
      "metadata": {
        "colab": {
          "base_uri": "https://localhost:8080/"
        },
        "id": "S_5Z539UWFH0",
        "outputId": "e0c01711-1b57-491b-f7ec-81490ec2e891"
      },
      "execution_count": 6,
      "outputs": [
        {
          "output_type": "stream",
          "name": "stdout",
          "text": [
            "Generated text: et netus et malesuada fames ac turpis egestas                                            \n",
            "Generated text from loaded model: orci ligula pellentesque habitant morbi tristique senectus et netus et malesuada fames ac turpis egestas                                     \n"
          ]
        }
      ]
    }
  ]
}