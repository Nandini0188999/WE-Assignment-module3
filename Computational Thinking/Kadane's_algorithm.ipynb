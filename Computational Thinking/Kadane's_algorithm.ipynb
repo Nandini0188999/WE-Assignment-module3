{
  "nbformat": 4,
  "nbformat_minor": 0,
  "metadata": {
    "colab": {
      "provenance": [],
      "authorship_tag": "ABX9TyM4eleQY0yAOrainVFTR48G",
      "include_colab_link": true
    },
    "kernelspec": {
      "name": "python3",
      "display_name": "Python 3"
    },
    "language_info": {
      "name": "python"
    }
  },
  "cells": [
    {
      "cell_type": "markdown",
      "metadata": {
        "id": "view-in-github",
        "colab_type": "text"
      },
      "source": [
        "<a href=\"https://colab.research.google.com/github/Nandini0188999/WE-Assignment-module3/blob/main/Computational%20Thinking/Kadane's_algorithm.ipynb\" target=\"_parent\"><img src=\"https://colab.research.google.com/assets/colab-badge.svg\" alt=\"Open In Colab\"/></a>"
      ]
    },
    {
      "cell_type": "code",
      "source": [
        "def kadane(arr):\n",
        "    max_so_far = arr[0]\n",
        "    max_ending_here = arr[0]\n",
        "\n",
        "    for i in range(1, len(arr)):\n",
        "        max_ending_here = max(arr[i], max_ending_here + arr[i])\n",
        "        max_so_far = max(max_so_far, max_ending_here)\n",
        "\n",
        "    return max_so_far\n",
        "\n",
        "# Example usage:\n",
        "arr = [-2, 1, -3, 4, -1, 2, 1, -5, 4]\n",
        "print(\"Maximum contiguous sum:\", kadane(arr))\n"
      ],
      "metadata": {
        "colab": {
          "base_uri": "https://localhost:8080/"
        },
        "id": "FSj5tujlDfVK",
        "outputId": "f4a2a085-f0ea-4795-ab68-76ca082c2b34"
      },
      "execution_count": 14,
      "outputs": [
        {
          "output_type": "stream",
          "name": "stdout",
          "text": [
            "Maximum contiguous sum: 6\n"
          ]
        }
      ]
    },
    {
      "cell_type": "code",
      "source": [
        "def kadane(arr):\n",
        "    \"\"\"\n",
        "    Find the maximum sum of a contiguous subarray using Kadane's algorithm.\n",
        "\n",
        "    Args:\n",
        "    arr (list): List of integers representing the input array.\n",
        "\n",
        "    Returns:\n",
        "    int: Maximum sum of a contiguous subarray.\n",
        "\n",
        "    Raises:\n",
        "    ValueError: If the input array is empty.\n",
        "    \"\"\"\n",
        "    if not arr:\n",
        "        raise ValueError(\"Input array is empty\")\n",
        "\n",
        "    max_so_far = max_ending_here = arr[0]\n",
        "\n",
        "    for num in arr[1:]:\n",
        "        max_ending_here = max(num, max_ending_here + num)\n",
        "        max_so_far = max(max_so_far, max_ending_here)\n",
        "\n",
        "    return max_so_far\n",
        "\n",
        "# Example usage:\n",
        "arr = [-2, 1, -3, 4, -1, 2, 1, -5, 4]\n",
        "print(\"Maximum contiguous sum:\", kadane(arr))\n"
      ],
      "metadata": {
        "colab": {
          "base_uri": "https://localhost:8080/"
        },
        "id": "GTS3rYX6Hyna",
        "outputId": "9786d4fe-7bc6-41d2-bf98-13e48b480065"
      },
      "execution_count": 15,
      "outputs": [
        {
          "output_type": "stream",
          "name": "stdout",
          "text": [
            "Maximum contiguous sum: 6\n"
          ]
        }
      ]
    }
  ]
}